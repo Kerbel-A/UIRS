{
 "cells": [
  {
   "cell_type": "code",
   "execution_count": null,
   "id": "0846468f",
   "metadata": {},
   "outputs": [],
   "source": [
    "def combine_names(first, last):\n",
    "    assert isinstance(first, str) and isinstance(last, str)\n",
    "    return first + ' ' + last"
   ]
  }
 ],
 "metadata": {
  "kernelspec": {
   "display_name": "Python 3 (ipykernel)",
   "language": "python",
   "name": "python3"
  },
  "language_info": {
   "codemirror_mode": {
    "name": "ipython",
    "version": 3
   },
   "file_extension": ".py",
   "mimetype": "text/x-python",
   "name": "python",
   "nbconvert_exporter": "python",
   "pygments_lexer": "ipython3",
   "version": "3.9.12"
  }
 },
 "nbformat": 4,
 "nbformat_minor": 5
}
