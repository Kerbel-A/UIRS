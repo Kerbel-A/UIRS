{
 "cells": [
  {
   "cell_type": "code",
   "execution_count": null,
   "id": "3eea0d08",
   "metadata": {},
   "outputs": [],
   "source": [
    "def outed(meet, boss):\n",
    "    rating = 0\n",
    "    for key, value in meet.items():\n",
    "        if key == boss:\n",
    "            rating += 2 * value\n",
    "        else:\n",
    "            rating += value\n",
    "    rating /= len(meet)\n",
    "    if rating <= 5:\n",
    "        return 'Get Out Now!'\n",
    "    else: \n",
    "        return 'Nice Work Champ!'"
   ]
  }
 ],
 "metadata": {
  "kernelspec": {
   "display_name": "Python 3 (ipykernel)",
   "language": "python",
   "name": "python3"
  },
  "language_info": {
   "codemirror_mode": {
    "name": "ipython",
    "version": 3
   },
   "file_extension": ".py",
   "mimetype": "text/x-python",
   "name": "python",
   "nbconvert_exporter": "python",
   "pygments_lexer": "ipython3",
   "version": "3.9.12"
  }
 },
 "nbformat": 4,
 "nbformat_minor": 5
}
