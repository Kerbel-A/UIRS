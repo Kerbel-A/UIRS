{
 "cells": [
  {
   "cell_type": "code",
   "execution_count": null,
   "id": "a8be7e98",
   "metadata": {},
   "outputs": [],
   "source": [
    "def initialize_names(name):\n",
    "    name_new = name.split()\n",
    "    for i in range(1, len(name_new)-1):\n",
    "        name_new[i] = name_new[i][0] + '.'\n",
    "    return ' '.join(name_new)"
   ]
  }
 ],
 "metadata": {
  "kernelspec": {
   "display_name": "Python 3 (ipykernel)",
   "language": "python",
   "name": "python3"
  },
  "language_info": {
   "codemirror_mode": {
    "name": "ipython",
    "version": 3
   },
   "file_extension": ".py",
   "mimetype": "text/x-python",
   "name": "python",
   "nbconvert_exporter": "python",
   "pygments_lexer": "ipython3",
   "version": "3.9.12"
  }
 },
 "nbformat": 4,
 "nbformat_minor": 5
}
