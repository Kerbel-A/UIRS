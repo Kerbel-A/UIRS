{
 "cells": [
  {
   "cell_type": "code",
   "execution_count": null,
   "id": "c22cf0dc",
   "metadata": {},
   "outputs": [],
   "source": [
    "def logical_calc(array, op):\n",
    "    out = array[0]\n",
    "    for i in array[1:]:\n",
    "        if op == \"AND\":\n",
    "            out &= i;\n",
    "        elif op == \"OR\":\n",
    "            out |= i;\n",
    "        else:\n",
    "            out ^= i;    \n",
    "    return out"
   ]
  }
 ],
 "metadata": {
  "kernelspec": {
   "display_name": "Python 3 (ipykernel)",
   "language": "python",
   "name": "python3"
  },
  "language_info": {
   "codemirror_mode": {
    "name": "ipython",
    "version": 3
   },
   "file_extension": ".py",
   "mimetype": "text/x-python",
   "name": "python",
   "nbconvert_exporter": "python",
   "pygments_lexer": "ipython3",
   "version": "3.9.12"
  }
 },
 "nbformat": 4,
 "nbformat_minor": 5
}
