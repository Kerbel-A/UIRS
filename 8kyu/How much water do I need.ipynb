{
 "cells": [
  {
   "cell_type": "code",
   "execution_count": null,
   "id": "40f7ca7c",
   "metadata": {},
   "outputs": [],
   "source": [
    "def how_much_water(L,X,N):\n",
    "    if N > 2 * X:\n",
    "        return 'Too much clothes'\n",
    "    if N < X:\n",
    "        return 'Not enough clothes'\n",
    "    return round(1.1 ** (N-X) * L, 2)"
   ]
  }
 ],
 "metadata": {
  "kernelspec": {
   "display_name": "Python 3 (ipykernel)",
   "language": "python",
   "name": "python3"
  },
  "language_info": {
   "codemirror_mode": {
    "name": "ipython",
    "version": 3
   },
   "file_extension": ".py",
   "mimetype": "text/x-python",
   "name": "python",
   "nbconvert_exporter": "python",
   "pygments_lexer": "ipython3",
   "version": "3.9.12"
  }
 },
 "nbformat": 4,
 "nbformat_minor": 5
}
