{
 "cells": [
  {
   "cell_type": "code",
   "execution_count": null,
   "id": "bb0edc97",
   "metadata": {},
   "outputs": [],
   "source": [
    "def nickname_generator(name):\n",
    "    if len(name)<4:\n",
    "        return \"Error: Name too short\"\n",
    "    if name[2] not in ['a','e','i','o','u']:\n",
    "        return name[:3]\n",
    "    else:\n",
    "        return name[:4]"
   ]
  }
 ],
 "metadata": {
  "kernelspec": {
   "display_name": "Python 3 (ipykernel)",
   "language": "python",
   "name": "python3"
  },
  "language_info": {
   "codemirror_mode": {
    "name": "ipython",
    "version": 3
   },
   "file_extension": ".py",
   "mimetype": "text/x-python",
   "name": "python",
   "nbconvert_exporter": "python",
   "pygments_lexer": "ipython3",
   "version": "3.9.12"
  }
 },
 "nbformat": 4,
 "nbformat_minor": 5
}
