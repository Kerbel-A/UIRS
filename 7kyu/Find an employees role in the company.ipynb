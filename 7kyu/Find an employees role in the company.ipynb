{
 "cells": [
  {
   "cell_type": "code",
   "execution_count": null,
   "id": "11130cc7",
   "metadata": {},
   "outputs": [],
   "source": [
    "def find_employees_role(name):\n",
    "    for employee in employees:\n",
    "        if employee['first_name'] + ' ' + employee['last_name'] == name:\n",
    "            return employee['role']\n",
    "    return \"Does not work here!\""
   ]
  }
 ],
 "metadata": {
  "kernelspec": {
   "display_name": "Python 3 (ipykernel)",
   "language": "python",
   "name": "python3"
  },
  "language_info": {
   "codemirror_mode": {
    "name": "ipython",
    "version": 3
   },
   "file_extension": ".py",
   "mimetype": "text/x-python",
   "name": "python",
   "nbconvert_exporter": "python",
   "pygments_lexer": "ipython3",
   "version": "3.9.12"
  }
 },
 "nbformat": 4,
 "nbformat_minor": 5
}
