{
 "cells": [
  {
   "cell_type": "code",
   "execution_count": null,
   "id": "f2c8fd5c",
   "metadata": {},
   "outputs": [],
   "source": [
    "def evil(n):\n",
    "    bin = \"{0:b}\".format(n)\n",
    "    count = {}\n",
    "    for s in bin:\n",
    "        if s in count:\n",
    "            count[s] += 1\n",
    "        else:\n",
    "            count[s] = 1\n",
    "\n",
    "    if(count['1']%2 == 0):\n",
    "        return \"It's Evil!\"\n",
    "    else:\n",
    "        return \"It's Odious!\""
   ]
  }
 ],
 "metadata": {
  "kernelspec": {
   "display_name": "Python 3 (ipykernel)",
   "language": "python",
   "name": "python3"
  },
  "language_info": {
   "codemirror_mode": {
    "name": "ipython",
    "version": 3
   },
   "file_extension": ".py",
   "mimetype": "text/x-python",
   "name": "python",
   "nbconvert_exporter": "python",
   "pygments_lexer": "ipython3",
   "version": "3.9.12"
  }
 },
 "nbformat": 4,
 "nbformat_minor": 5
}
