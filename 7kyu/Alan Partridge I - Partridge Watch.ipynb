{
 "cells": [
  {
   "cell_type": "code",
   "execution_count": null,
   "id": "676e03f0",
   "metadata": {},
   "outputs": [],
   "source": [
    "def part(arr):\n",
    "    terms = ['Partridge', 'PearTree', 'Chat', 'Dan', 'Toblerone', 'Lynn', 'AlphaPapa', 'Nomad']\n",
    "    count=0\n",
    "    for i in arr:\n",
    "        if i in terms:\n",
    "            count+=1\n",
    "    if count:\n",
    "        return f\"Mine's a Pint{count * '!'}\"\n",
    "    else:\n",
    "        return \"Lynn, I've pierced my foot on a spike!!\""
   ]
  }
 ],
 "metadata": {
  "kernelspec": {
   "display_name": "Python 3 (ipykernel)",
   "language": "python",
   "name": "python3"
  },
  "language_info": {
   "codemirror_mode": {
    "name": "ipython",
    "version": 3
   },
   "file_extension": ".py",
   "mimetype": "text/x-python",
   "name": "python",
   "nbconvert_exporter": "python",
   "pygments_lexer": "ipython3",
   "version": "3.9.12"
  }
 },
 "nbformat": 4,
 "nbformat_minor": 5
}
